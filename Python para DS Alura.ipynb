{
 "cells": [
  {
   "cell_type": "markdown",
   "id": "e21dac7f",
   "metadata": {},
   "source": [
    "# Python para data Science - Alura"
   ]
  },
  {
   "cell_type": "code",
   "execution_count": 2,
   "id": "c98628fa",
   "metadata": {},
   "outputs": [
    {
     "data": {
      "text/plain": [
       "2"
      ]
     },
     "execution_count": 2,
     "metadata": {},
     "output_type": "execute_result"
    }
   ],
   "source": [
    "1+1"
   ]
  },
  {
   "cell_type": "code",
   "execution_count": 4,
   "id": "bb2c7234",
   "metadata": {},
   "outputs": [],
   "source": [
    "nome = 'Joyce'"
   ]
  },
  {
   "cell_type": "code",
   "execution_count": 5,
   "id": "4b93bb93",
   "metadata": {},
   "outputs": [],
   "source": [
    "idade= 34"
   ]
  },
  {
   "cell_type": "code",
   "execution_count": 7,
   "id": "e66cbe81",
   "metadata": {},
   "outputs": [
    {
     "name": "stdout",
     "output_type": "stream",
     "text": [
      "O nome é Joyce e sua idade é 34 anos\n"
     ]
    }
   ],
   "source": [
    "print(f'O nome é {nome} e sua idade é {idade} anos') #\"f\" é necessário para exibir conteúdo da variável"
   ]
  },
  {
   "cell_type": "markdown",
   "id": "4394922a",
   "metadata": {},
   "source": [
    "## Criando minha primeira função"
   ]
  },
  {
   "cell_type": "code",
   "execution_count": 15,
   "id": "07609a7c",
   "metadata": {},
   "outputs": [],
   "source": [
    "def saudacao(): #def é pra criar a função\n",
    "    nome = input('Qual o seu nome?')\n",
    "    print(f'Olá, {nome}!')  # tem que ser entre chaves"
   ]
  },
  {
   "cell_type": "code",
   "execution_count": 16,
   "id": "ff568de8",
   "metadata": {},
   "outputs": [
    {
     "name": "stdin",
     "output_type": "stream",
     "text": [
      "Qual o seu nome? Joyce\n"
     ]
    },
    {
     "name": "stdout",
     "output_type": "stream",
     "text": [
      "Olá, Joyce!\n"
     ]
    }
   ],
   "source": [
    "saudacao()"
   ]
  },
  {
   "cell_type": "markdown",
   "id": "7776fa17",
   "metadata": {},
   "source": [
    "## Parâmetros"
   ]
  },
  {
   "cell_type": "code",
   "execution_count": 23,
   "id": "058fd94a",
   "metadata": {},
   "outputs": [],
   "source": [
    "def saudacao_com_parametros(nome_da_pessoa):\n",
    "    print (f'Olá, {nome_da_pessoa}!')"
   ]
  },
  {
   "cell_type": "code",
   "execution_count": 24,
   "id": "972ff923",
   "metadata": {},
   "outputs": [
    {
     "name": "stdout",
     "output_type": "stream",
     "text": [
      "Olá, Joyce!\n"
     ]
    }
   ],
   "source": [
    "saudacao_com_parametros(nome)"
   ]
  },
  {
   "cell_type": "markdown",
   "id": "a91a6fde",
   "metadata": {},
   "source": [
    "## Condicional"
   ]
  },
  {
   "cell_type": "code",
   "execution_count": 28,
   "id": "c9fa9248",
   "metadata": {},
   "outputs": [],
   "source": [
    "idade = 15\n"
   ]
  },
  {
   "cell_type": "code",
   "execution_count": 30,
   "id": "042af294",
   "metadata": {},
   "outputs": [
    {
     "name": "stdout",
     "output_type": "stream",
     "text": [
      "Não tem permissão para dirigir\n"
     ]
    }
   ],
   "source": [
    "def verifica_idade(idade):\n",
    "    if idade >= 18:\n",
    "        print('Tem permissão para dirigir')\n",
    "    else:\n",
    "        print('Não tem permissão para dirigir')\n",
    "        \n",
    "verifica_idade(idade)        "
   ]
  },
  {
   "cell_type": "code",
   "execution_count": 38,
   "id": "5643bcbe",
   "metadata": {},
   "outputs": [
    {
     "name": "stdin",
     "output_type": "stream",
     "text": [
      "Qual sua idade? Somente números 35\n"
     ]
    },
    {
     "name": "stdout",
     "output_type": "stream",
     "text": [
      "Tem permissão para dirigir\n"
     ]
    }
   ],
   "source": [
    "def verifica_idade_sem_parametros():\n",
    "    idade = input('Qual sua idade? Somente números') # Quando responde ele considera string\n",
    "    idade = int(idade) #convertendo para int a string de cima\n",
    "    if idade >= 18:\n",
    "        print('Tem permissão para dirigir')\n",
    "    else:\n",
    "        print('Não tem permissão para dirigir')\n",
    "        \n",
    "        \n",
    "verifica_idade_sem_parametros()        "
   ]
  },
  {
   "cell_type": "code",
   "execution_count": 39,
   "id": "a34981e2",
   "metadata": {},
   "outputs": [
    {
     "data": {
      "text/plain": [
       "int"
      ]
     },
     "execution_count": 39,
     "metadata": {},
     "output_type": "execute_result"
    }
   ],
   "source": [
    "type(idade)"
   ]
  },
  {
   "cell_type": "code",
   "execution_count": 40,
   "id": "187c275d",
   "metadata": {},
   "outputs": [
    {
     "data": {
      "text/plain": [
       "str"
      ]
     },
     "execution_count": 40,
     "metadata": {},
     "output_type": "execute_result"
    }
   ],
   "source": [
    "type(nome)"
   ]
  },
  {
   "cell_type": "code",
   "execution_count": 42,
   "id": "74bc8ba5",
   "metadata": {},
   "outputs": [
    {
     "data": {
      "text/plain": [
       "list"
      ]
     },
     "execution_count": 42,
     "metadata": {},
     "output_type": "execute_result"
    }
   ],
   "source": [
    "idades = [18, 22, 15, 50]\n",
    "type(idades)"
   ]
  },
  {
   "cell_type": "code",
   "execution_count": 44,
   "id": "128d2641",
   "metadata": {},
   "outputs": [
    {
     "data": {
      "text/plain": [
       "22"
      ]
     },
     "execution_count": 44,
     "metadata": {},
     "output_type": "execute_result"
    }
   ],
   "source": [
    "idades[1]  #quero ver o elemento indicado, lembrando que o primeiro é 0"
   ]
  },
  {
   "cell_type": "code",
   "execution_count": 49,
   "id": "bcd40b5a",
   "metadata": {},
   "outputs": [
    {
     "data": {
      "text/plain": [
       "[18, 22, 15]"
      ]
     },
     "execution_count": 49,
     "metadata": {},
     "output_type": "execute_result"
    }
   ],
   "source": [
    "idades[0:3] #não inclui o segundo elemento"
   ]
  },
  {
   "cell_type": "code",
   "execution_count": 50,
   "id": "eb016005",
   "metadata": {},
   "outputs": [
    {
     "data": {
      "text/plain": [
       "[22, 15, 50]"
      ]
     },
     "execution_count": 50,
     "metadata": {},
     "output_type": "execute_result"
    }
   ],
   "source": [
    "idades[1:] #vai até o final"
   ]
  },
  {
   "cell_type": "code",
   "execution_count": 51,
   "id": "1ab659da",
   "metadata": {},
   "outputs": [
    {
     "data": {
      "text/plain": [
       "50"
      ]
     },
     "execution_count": 51,
     "metadata": {},
     "output_type": "execute_result"
    }
   ],
   "source": [
    "idades[-1] #último elemento"
   ]
  },
  {
   "cell_type": "code",
   "execution_count": 53,
   "id": "bfbe3093",
   "metadata": {},
   "outputs": [
    {
     "data": {
      "text/plain": [
       "15"
      ]
     },
     "execution_count": 53,
     "metadata": {},
     "output_type": "execute_result"
    }
   ],
   "source": [
    "idades[-2]"
   ]
  },
  {
   "cell_type": "markdown",
   "id": "93ff6e59",
   "metadata": {},
   "source": [
    "## Laços e loops"
   ]
  },
  {
   "cell_type": "code",
   "execution_count": 56,
   "id": "eeb09c9a",
   "metadata": {},
   "outputs": [
    {
     "name": "stdout",
     "output_type": "stream",
     "text": [
      "São 18 anos de idade, TEM permissão para dirigir\n",
      "São 22 anos de idade, TEM permissão para dirigir\n",
      "São 15 anos de idade, NÃO tem permissão para dirigir\n",
      "São 50 anos de idade, TEM permissão para dirigir\n"
     ]
    }
   ],
   "source": [
    "# FOR fora da função\n",
    "def verifica_idade(idade):\n",
    "    if idade >= 18:\n",
    "        print(f'São {idade} anos de idade, TEM permissão para dirigir')\n",
    "    else:\n",
    "        print(f'São {idade} anos de idade, NÃO tem permissão para dirigir')\n",
    "        \n",
    "        \n",
    "#para cada idade na nossa lista quero verificar se pode dirigir\n",
    "\n",
    "for idade in idades:\n",
    "    verifica_idade(idade)"
   ]
  },
  {
   "cell_type": "code",
   "execution_count": 62,
   "id": "2934ebed",
   "metadata": {},
   "outputs": [
    {
     "name": "stdout",
     "output_type": "stream",
     "text": [
      "São 18 anos de idade, TEM permissão para dirigir\n",
      "São 22 anos de idade, TEM permissão para dirigir\n",
      "São 15 anos de idade, NÃO tem permissão para dirigir\n",
      "São 50 anos de idade, TEM permissão para dirigir\n"
     ]
    }
   ],
   "source": [
    "#For dentro da função\n",
    "def verifica_idade(idades):\n",
    "    for idade in idades:\n",
    "        if idade >= 18:\n",
    "            print(f'São {idade} anos de idade, TEM permissão para dirigir')\n",
    "        else:\n",
    "            print(f'São {idade} anos de idade, NÃO tem permissão para dirigir')\n",
    "            \n",
    "verifica_idade(idades)           \n",
    "        "
   ]
  },
  {
   "cell_type": "markdown",
   "id": "39c7527b",
   "metadata": {},
   "source": [
    "## booleano"
   ]
  },
  {
   "cell_type": "code",
   "execution_count": 64,
   "id": "3ea69ac3",
   "metadata": {},
   "outputs": [
    {
     "data": {
      "text/plain": [
       "True"
      ]
     },
     "execution_count": 64,
     "metadata": {},
     "output_type": "execute_result"
    }
   ],
   "source": [
    "idade = 15\n",
    "idade >= 18"
   ]
  },
  {
   "cell_type": "code",
   "execution_count": 65,
   "id": "7e760258",
   "metadata": {},
   "outputs": [
    {
     "data": {
      "text/plain": [
       "False"
      ]
     },
     "execution_count": 65,
     "metadata": {},
     "output_type": "execute_result"
    }
   ],
   "source": [
    "idade = 15\n",
    "idade >= 18"
   ]
  },
  {
   "cell_type": "code",
   "execution_count": 70,
   "id": "3a0e39bb",
   "metadata": {},
   "outputs": [],
   "source": [
    "permissoes = []\n",
    "idades = [20, 14, 40]\n",
    "\n",
    "def verifica_idades(idades, permissoes):  #as variaveis que vao entra nessa minha funcao\n",
    "    for idade in idades:\n",
    "        if idade >= 18:\n",
    "            permissoes.append(True)  # append adiciona\n",
    "        else:\n",
    "            permissoes.append(False)\n",
    "            \n",
    "verifica_idades(idades,permissoes)            "
   ]
  },
  {
   "cell_type": "code",
   "execution_count": 71,
   "id": "f2bc5d1e",
   "metadata": {},
   "outputs": [
    {
     "data": {
      "text/plain": [
       "[True, False, True]"
      ]
     },
     "execution_count": 71,
     "metadata": {},
     "output_type": "execute_result"
    }
   ],
   "source": [
    "permissoes"
   ]
  },
  {
   "cell_type": "code",
   "execution_count": 72,
   "id": "96a5dc65",
   "metadata": {},
   "outputs": [
    {
     "name": "stdout",
     "output_type": "stream",
     "text": [
      "Tem permissão para dirigir\n",
      "Não tem permissão para dirigir\n",
      "Tem permissão para dirigir\n"
     ]
    }
   ],
   "source": [
    "for permissao in permissoes:\n",
    "    if permissao == True:\n",
    "        print('Tem permissão para dirigir')\n",
    "    else:\n",
    "        print('Não tem permissão para dirigir')"
   ]
  },
  {
   "cell_type": "markdown",
   "id": "0804ac1b",
   "metadata": {},
   "source": [
    "## Tipos em uma lista"
   ]
  },
  {
   "cell_type": "code",
   "execution_count": 4,
   "id": "bb200fb1",
   "metadata": {},
   "outputs": [
    {
     "name": "stdout",
     "output_type": "stream",
     "text": [
      "O elemento Joyce é do tipo:  <class 'str'>\n",
      "O elemento 34 é do tipo:  <class 'int'>\n",
      "O elemento True é do tipo:  <class 'bool'>\n",
      "O elemento 18 é do tipo:  <class 'str'>\n",
      "O elemento Mauro é do tipo:  <class 'str'>\n"
     ]
    }
   ],
   "source": [
    "lista = ['Joyce', 34, True, '18', 'Mauro']\n",
    "\n",
    "for elemento in lista:\n",
    "    print(f'O elemento {elemento} é do tipo: ', type(elemento))  #vai me dizer o tipo do elemneto"
   ]
  },
  {
   "cell_type": "markdown",
   "id": "bf550a55",
   "metadata": {},
   "source": [
    "## Imports"
   ]
  },
  {
   "cell_type": "code",
   "execution_count": 17,
   "id": "9ccc7d7b",
   "metadata": {},
   "outputs": [],
   "source": [
    "from random import randrange,seed #,seed é pra manipular esse número ' aleatório'"
   ]
  },
  {
   "cell_type": "code",
   "execution_count": 18,
   "id": "e8886f1f",
   "metadata": {},
   "outputs": [],
   "source": [
    "seed(11)"
   ]
  },
  {
   "cell_type": "code",
   "execution_count": 19,
   "id": "747ad265",
   "metadata": {},
   "outputs": [
    {
     "data": {
      "text/plain": [
       "7"
      ]
     },
     "execution_count": 19,
     "metadata": {},
     "output_type": "execute_result"
    }
   ],
   "source": [
    "randrange(0, 11) #início e final, lembrando que o número final não entra na lista"
   ]
  },
  {
   "cell_type": "code",
   "execution_count": 20,
   "id": "546cbf27",
   "metadata": {},
   "outputs": [
    {
     "data": {
      "text/plain": [
       "[8, 7, 7, 8, 9, 3, 2, 8]"
      ]
     },
     "execution_count": 20,
     "metadata": {},
     "output_type": "execute_result"
    }
   ],
   "source": [
    "notas_matematica = []\n",
    "\n",
    "for notas in range(8): #quero gerar 8 notas, 2 por bimestre\n",
    "    notas_matematica.append(randrange(0,11))\n",
    "\n",
    "notas_matematica"
   ]
  },
  {
   "cell_type": "code",
   "execution_count": 15,
   "id": "8d53a9b7",
   "metadata": {},
   "outputs": [
    {
     "data": {
      "text/plain": [
       "8"
      ]
     },
     "execution_count": 15,
     "metadata": {},
     "output_type": "execute_result"
    }
   ],
   "source": [
    "len(notas_matematica)"
   ]
  },
  {
   "cell_type": "markdown",
   "id": "d1338454",
   "metadata": {},
   "source": [
    "## matplotlib"
   ]
  },
  {
   "cell_type": "code",
   "execution_count": 23,
   "id": "f8407a04",
   "metadata": {},
   "outputs": [],
   "source": [
    "import matplotlib.pyplot as plt  "
   ]
  },
  {
   "cell_type": "code",
   "execution_count": 34,
   "id": "6bee8013",
   "metadata": {},
   "outputs": [
    {
     "data": {
      "image/png": "[encoded data removed]",
      "text/plain": [
       "<Figure size 432x288 with 1 Axes>"
      ]
     },
     "metadata": {
      "needs_background": "light"
     },
     "output_type": "display_data"
    }
   ],
   "source": [
    "x = list(range(1,9))\n",
    "y = notas_matematica\n",
    "plt.plot(x,y, marker='o') #marker adicionou as bolinhas\n",
    "plt.title('Notas de matemática')\n",
    "plt.xlabel('Provas') #legenda do x\n",
    "plt.ylabel('Notas') #legenda do y\n",
    "plt.show() #some os dados da memória que ficam acima do gráfico"
   ]
  },
  {
   "cell_type": "code",
   "execution_count": null,
   "id": "d4265065",
   "metadata": {},
   "outputs": [],
   "source": []
  },
  {
   "cell_type": "code",
   "execution_count": null,
   "id": "601a5a7a",
   "metadata": {},
   "outputs": [],
   "source": []
  }
 ],
 "metadata": {
  "kernelspec": {
   "display_name": "Python 3",
   "language": "python",
   "name": "python3"
  },
  "language_info": {
   "codemirror_mode": {
    "name": "ipython",
    "version": 3
   },
   "file_extension": ".py",
   "mimetype": "text/x-python",
   "name": "python",
   "nbconvert_exporter": "python",
   "pygments_lexer": "ipython3",
   "version": "3.6.8"
  }
 },
 "nbformat": 4,
 "nbformat_minor": 5
}
